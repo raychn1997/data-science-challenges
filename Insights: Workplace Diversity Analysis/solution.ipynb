{
 "cells": [
  {
   "cell_type": "markdown",
   "metadata": {
    "collapsed": true,
    "pycharm": {
     "name": "#%% md\n"
    }
   },
   "source": [
    "# Workplace Diversity Analysis\n",
    "## Goal\n",
    "Diversity, unconscious bias in the workplace and, in general, the way companies treat their employees are a very important topic.\n",
    "Data science can help discover potential discriminations by looking at the data and see if there are segments of employees that are treated worse.\n",
    "## Challenge Description\n",
    "There has been lots of talking about diversity in the workplace, especially in technology. The Head of HR at your company is very concerned about that and has asked you to analyze internal data about employees and see whether results suggest that the company is treating all its employees fairly or not.\n",
    "\n",
    "Specifically, she gave you the following tasks:\n",
    "- In the company there are 6 levels (described below). Identify, for each employee, her corresponding level.\n",
    " - Individual Contributors(IC) - they don’t manage anyone\n",
    " - Middle Managers(MM) - they are the direct bosses of IC\n",
    " - Directors(D) - they are the direct bosses of MM\n",
    " - VP - D direct bosses\n",
    " - Executives (E) - VP direct bosses\n",
    " - CEO - The direct boss of E.\n",
    "- How many people each employee manages? Consider that if John directly manages 2 people and these two people manage 5 people each, then we conclude that John manages 12 people.\n",
    "- Build a model to predict the salary of each employee.\n",
    "- Describe the main factors impacting employee salaries. Do you think the company has been treating all its employees fairly? What are the next steps you would suggest to the Head of HR?\n",
    "\n",
    "PS: you can assume the data for this challenge is clean(e.g. no types, no mismatch when performing joins)"
   ]
  },
  {
   "cell_type": "markdown",
   "source": [
    "# 0. Load dependencies and data"
   ],
   "metadata": {
    "collapsed": false,
    "pycharm": {
     "name": "#%% md\n"
    }
   }
  },
  {
   "cell_type": "code",
   "execution_count": 1,
   "outputs": [],
   "source": [
    "import pandas as pd\n",
    "import numpy as np\n",
    "from read_data import df1, df2\n",
    "\n",
    "import matplotlib.pyplot as plt\n",
    "import seaborn as sns\n",
    "from pdpbox import pdp, info_plots\n",
    "\n",
    "from sklearn.model_selection import train_test_split\n",
    "from sklearn.ensemble import RandomForestRegressor\n",
    "from sklearn.metrics import mean_absolute_error"
   ],
   "metadata": {
    "collapsed": false,
    "pycharm": {
     "name": "#%%\n"
    }
   }
  },
  {
   "cell_type": "code",
   "execution_count": 2,
   "outputs": [
    {
     "data": {
      "text/plain": "  employee_id boss_id   dept\n0       46456  175361  sales\n1      104708   29733     HR\n2      120853   41991  sales\n3      142630  171266     HR\n4       72711  198240  sales",
      "text/html": "<div>\n<style scoped>\n    .dataframe tbody tr th:only-of-type {\n        vertical-align: middle;\n    }\n\n    .dataframe tbody tr th {\n        vertical-align: top;\n    }\n\n    .dataframe thead th {\n        text-align: right;\n    }\n</style>\n<table border=\"1\" class=\"dataframe\">\n  <thead>\n    <tr style=\"text-align: right;\">\n      <th></th>\n      <th>employee_id</th>\n      <th>boss_id</th>\n      <th>dept</th>\n    </tr>\n  </thead>\n  <tbody>\n    <tr>\n      <th>0</th>\n      <td>46456</td>\n      <td>175361</td>\n      <td>sales</td>\n    </tr>\n    <tr>\n      <th>1</th>\n      <td>104708</td>\n      <td>29733</td>\n      <td>HR</td>\n    </tr>\n    <tr>\n      <th>2</th>\n      <td>120853</td>\n      <td>41991</td>\n      <td>sales</td>\n    </tr>\n    <tr>\n      <th>3</th>\n      <td>142630</td>\n      <td>171266</td>\n      <td>HR</td>\n    </tr>\n    <tr>\n      <th>4</th>\n      <td>72711</td>\n      <td>198240</td>\n      <td>sales</td>\n    </tr>\n  </tbody>\n</table>\n</div>"
     },
     "execution_count": 2,
     "metadata": {},
     "output_type": "execute_result"
    }
   ],
   "source": [
    "df1.head()"
   ],
   "metadata": {
    "collapsed": false,
    "pycharm": {
     "name": "#%%\n"
    }
   }
  },
  {
   "cell_type": "code",
   "execution_count": 3,
   "outputs": [
    {
     "data": {
      "text/plain": "  employee_id  signing_bonus    salary degree_level sex  yrs_experience\n0      138719              0  273000.0       Master   M               2\n1        3192              0  301000.0     Bachelor   F               1\n2      114657              0  261000.0       Master   F               2\n3       29039              0   86000.0  High_School   F               4\n4      118607              0  126000.0     Bachelor   F               3",
      "text/html": "<div>\n<style scoped>\n    .dataframe tbody tr th:only-of-type {\n        vertical-align: middle;\n    }\n\n    .dataframe tbody tr th {\n        vertical-align: top;\n    }\n\n    .dataframe thead th {\n        text-align: right;\n    }\n</style>\n<table border=\"1\" class=\"dataframe\">\n  <thead>\n    <tr style=\"text-align: right;\">\n      <th></th>\n      <th>employee_id</th>\n      <th>signing_bonus</th>\n      <th>salary</th>\n      <th>degree_level</th>\n      <th>sex</th>\n      <th>yrs_experience</th>\n    </tr>\n  </thead>\n  <tbody>\n    <tr>\n      <th>0</th>\n      <td>138719</td>\n      <td>0</td>\n      <td>273000.0</td>\n      <td>Master</td>\n      <td>M</td>\n      <td>2</td>\n    </tr>\n    <tr>\n      <th>1</th>\n      <td>3192</td>\n      <td>0</td>\n      <td>301000.0</td>\n      <td>Bachelor</td>\n      <td>F</td>\n      <td>1</td>\n    </tr>\n    <tr>\n      <th>2</th>\n      <td>114657</td>\n      <td>0</td>\n      <td>261000.0</td>\n      <td>Master</td>\n      <td>F</td>\n      <td>2</td>\n    </tr>\n    <tr>\n      <th>3</th>\n      <td>29039</td>\n      <td>0</td>\n      <td>86000.0</td>\n      <td>High_School</td>\n      <td>F</td>\n      <td>4</td>\n    </tr>\n    <tr>\n      <th>4</th>\n      <td>118607</td>\n      <td>0</td>\n      <td>126000.0</td>\n      <td>Bachelor</td>\n      <td>F</td>\n      <td>3</td>\n    </tr>\n  </tbody>\n</table>\n</div>"
     },
     "execution_count": 3,
     "metadata": {},
     "output_type": "execute_result"
    }
   ],
   "source": [
    "df2.head()"
   ],
   "metadata": {
    "collapsed": false,
    "pycharm": {
     "name": "#%%\n"
    }
   }
  },
  {
   "cell_type": "code",
   "execution_count": 4,
   "outputs": [
    {
     "data": {
      "text/plain": "  employee_id boss_id   dept  signing_bonus    salary degree_level sex  \\\n0       46456  175361  sales              0  213000.0     Bachelor   M   \n1      104708   29733     HR              0   79000.0     Bachelor   F   \n2      120853   41991  sales              0  199000.0  High_School   M   \n3      142630  171266     HR              0  143000.0          PhD   F   \n4       72711  198240  sales              0  235000.0       Master   M   \n\n   yrs_experience  \n0               5  \n1               3  \n2               5  \n3              13  \n4               1  ",
      "text/html": "<div>\n<style scoped>\n    .dataframe tbody tr th:only-of-type {\n        vertical-align: middle;\n    }\n\n    .dataframe tbody tr th {\n        vertical-align: top;\n    }\n\n    .dataframe thead th {\n        text-align: right;\n    }\n</style>\n<table border=\"1\" class=\"dataframe\">\n  <thead>\n    <tr style=\"text-align: right;\">\n      <th></th>\n      <th>employee_id</th>\n      <th>boss_id</th>\n      <th>dept</th>\n      <th>signing_bonus</th>\n      <th>salary</th>\n      <th>degree_level</th>\n      <th>sex</th>\n      <th>yrs_experience</th>\n    </tr>\n  </thead>\n  <tbody>\n    <tr>\n      <th>0</th>\n      <td>46456</td>\n      <td>175361</td>\n      <td>sales</td>\n      <td>0</td>\n      <td>213000.0</td>\n      <td>Bachelor</td>\n      <td>M</td>\n      <td>5</td>\n    </tr>\n    <tr>\n      <th>1</th>\n      <td>104708</td>\n      <td>29733</td>\n      <td>HR</td>\n      <td>0</td>\n      <td>79000.0</td>\n      <td>Bachelor</td>\n      <td>F</td>\n      <td>3</td>\n    </tr>\n    <tr>\n      <th>2</th>\n      <td>120853</td>\n      <td>41991</td>\n      <td>sales</td>\n      <td>0</td>\n      <td>199000.0</td>\n      <td>High_School</td>\n      <td>M</td>\n      <td>5</td>\n    </tr>\n    <tr>\n      <th>3</th>\n      <td>142630</td>\n      <td>171266</td>\n      <td>HR</td>\n      <td>0</td>\n      <td>143000.0</td>\n      <td>PhD</td>\n      <td>F</td>\n      <td>13</td>\n    </tr>\n    <tr>\n      <th>4</th>\n      <td>72711</td>\n      <td>198240</td>\n      <td>sales</td>\n      <td>0</td>\n      <td>235000.0</td>\n      <td>Master</td>\n      <td>M</td>\n      <td>1</td>\n    </tr>\n  </tbody>\n</table>\n</div>"
     },
     "execution_count": 4,
     "metadata": {},
     "output_type": "execute_result"
    }
   ],
   "source": [
    "# Join the two tables together\n",
    "df = pd.merge(df1, df2, left_on='employee_id', right_on='employee_id', how='left')\n",
    "df.head()"
   ],
   "metadata": {
    "collapsed": false,
    "pycharm": {
     "name": "#%%\n"
    }
   }
  },
  {
   "cell_type": "markdown",
   "source": [
    "# 1. EDA\n",
    "- No nulls except that CEO does not have a boss"
   ],
   "metadata": {
    "collapsed": false,
    "pycharm": {
     "name": "#%% md\n"
    }
   }
  },
  {
   "cell_type": "code",
   "execution_count": 5,
   "outputs": [
    {
     "name": "stdout",
     "output_type": "stream",
     "text": [
      "Size of Data: (10000, 8)\n",
      "\n",
      "               Column Types  Number of Nulls  Unique Values\n",
      "employee_id          object                0          10000\n",
      "boss_id              object                1            999\n",
      "dept                 object                0              5\n",
      "signing_bonus         int64                0              2\n",
      "salary              float64                0            344\n",
      "degree_level         object                0              4\n",
      "sex                  object                0              2\n",
      "yrs_experience        int64                0             31\n"
     ]
    }
   ],
   "source": [
    "# Size of data\n",
    "print('Size of Data:', df.shape)\n",
    "print('')\n",
    "\n",
    "# Null and unique values\n",
    "summary = pd.DataFrame({'Column Types': df.dtypes,\n",
    "                        'Number of Nulls': df.isna().sum(),\n",
    "                        'Unique Values': df.nunique()})\n",
    "print(summary)"
   ],
   "metadata": {
    "collapsed": false,
    "pycharm": {
     "name": "#%%\n"
    }
   }
  },
  {
   "cell_type": "markdown",
   "source": [
    "## Q1. In the company there are 6 levels (described below). Identify, for each employee, her corresponding level.\n",
    "- Individual Contributors(IC) - they don’t manage anyone\n",
    "- Middle Managers(MM) - they are the direct bosses of IC\n",
    "- Directors(D) - they are the direct bosses of MM\n",
    "- VP - D direct bosses\n",
    "- Executives (E) - VP direct bosses\n",
    "- CEO - The direct boss of E.\n",
    "\n",
    "Here, we can go from top to bottom. Find the CEO first, and his direct reports(Executives), and the direct reports of\n",
    "Executives(Vice Presidents), etc."
   ],
   "metadata": {
    "collapsed": false,
    "pycharm": {
     "name": "#%% md\n"
    }
   }
  },
  {
   "cell_type": "code",
   "execution_count": 6,
   "outputs": [],
   "source": [
    "# Find the ID of the CEO\n",
    "ceo_id = df[df['boss_id'].isnull()]['employee_id']\n",
    "current_level_id = ceo_id\n",
    "\n",
    "# Hierarchy List\n",
    "hierarchy = ['CEO', 'E', 'VP', 'D', 'MM', 'IC']\n",
    "\n",
    "# Initialize the column level\n",
    "df['level'] = 'None'\n",
    "\n",
    "# Go over the hierarchy from top to bottom\n",
    "for h in hierarchy:\n",
    "    # Update the level\n",
    "    df['level'][df['employee_id'].isin(current_level_id)] = h\n",
    "    # Find their subordinates\n",
    "    current_level_id = df[df['boss_id'].isin(current_level_id)]['employee_id']"
   ],
   "metadata": {
    "collapsed": false,
    "pycharm": {
     "name": "#%%\n"
    }
   }
  },
  {
   "cell_type": "code",
   "execution_count": 7,
   "outputs": [
    {
     "data": {
      "text/plain": "  employee_id boss_id   dept  signing_bonus    salary degree_level sex  \\\n0       46456  175361  sales              0  213000.0     Bachelor   M   \n1      104708   29733     HR              0   79000.0     Bachelor   F   \n2      120853   41991  sales              0  199000.0  High_School   M   \n3      142630  171266     HR              0  143000.0          PhD   F   \n4       72711  198240  sales              0  235000.0       Master   M   \n\n   yrs_experience level  \n0               5    IC  \n1               3    IC  \n2               5    IC  \n3              13    MM  \n4               1    IC  ",
      "text/html": "<div>\n<style scoped>\n    .dataframe tbody tr th:only-of-type {\n        vertical-align: middle;\n    }\n\n    .dataframe tbody tr th {\n        vertical-align: top;\n    }\n\n    .dataframe thead th {\n        text-align: right;\n    }\n</style>\n<table border=\"1\" class=\"dataframe\">\n  <thead>\n    <tr style=\"text-align: right;\">\n      <th></th>\n      <th>employee_id</th>\n      <th>boss_id</th>\n      <th>dept</th>\n      <th>signing_bonus</th>\n      <th>salary</th>\n      <th>degree_level</th>\n      <th>sex</th>\n      <th>yrs_experience</th>\n      <th>level</th>\n    </tr>\n  </thead>\n  <tbody>\n    <tr>\n      <th>0</th>\n      <td>46456</td>\n      <td>175361</td>\n      <td>sales</td>\n      <td>0</td>\n      <td>213000.0</td>\n      <td>Bachelor</td>\n      <td>M</td>\n      <td>5</td>\n      <td>IC</td>\n    </tr>\n    <tr>\n      <th>1</th>\n      <td>104708</td>\n      <td>29733</td>\n      <td>HR</td>\n      <td>0</td>\n      <td>79000.0</td>\n      <td>Bachelor</td>\n      <td>F</td>\n      <td>3</td>\n      <td>IC</td>\n    </tr>\n    <tr>\n      <th>2</th>\n      <td>120853</td>\n      <td>41991</td>\n      <td>sales</td>\n      <td>0</td>\n      <td>199000.0</td>\n      <td>High_School</td>\n      <td>M</td>\n      <td>5</td>\n      <td>IC</td>\n    </tr>\n    <tr>\n      <th>3</th>\n      <td>142630</td>\n      <td>171266</td>\n      <td>HR</td>\n      <td>0</td>\n      <td>143000.0</td>\n      <td>PhD</td>\n      <td>F</td>\n      <td>13</td>\n      <td>MM</td>\n    </tr>\n    <tr>\n      <th>4</th>\n      <td>72711</td>\n      <td>198240</td>\n      <td>sales</td>\n      <td>0</td>\n      <td>235000.0</td>\n      <td>Master</td>\n      <td>M</td>\n      <td>1</td>\n      <td>IC</td>\n    </tr>\n  </tbody>\n</table>\n</div>"
     },
     "execution_count": 7,
     "metadata": {},
     "output_type": "execute_result"
    }
   ],
   "source": [
    "df.head()"
   ],
   "metadata": {
    "collapsed": false,
    "pycharm": {
     "name": "#%%\n"
    }
   }
  },
  {
   "cell_type": "code",
   "execution_count": 8,
   "outputs": [
    {
     "data": {
      "text/plain": "IC     9000\nMM      800\nD       160\nVP       35\nE         4\nCEO       1\nName: level, dtype: int64"
     },
     "execution_count": 8,
     "metadata": {},
     "output_type": "execute_result"
    }
   ],
   "source": [
    "# Hierarchy Structure\n",
    "df['level'].value_counts()"
   ],
   "metadata": {
    "collapsed": false,
    "pycharm": {
     "name": "#%%\n"
    }
   }
  },
  {
   "cell_type": "markdown",
   "source": [
    "## Q2. How many people each employee manages?\n",
    "Consider that if John directly manages 2 people and these two people manage 5 people each, then we conclude that John manages 12 people.\n",
    "\n",
    "Here, we can go from bottom to top. Find how many staff Middle Managers mange, and how many staff Directors manage, etc."
   ],
   "metadata": {
    "collapsed": false,
    "pycharm": {
     "name": "#%% md\n"
    }
   }
  },
  {
   "cell_type": "code",
   "execution_count": 9,
   "outputs": [],
   "source": [
    "# Initialize the staff column\n",
    "df['num_staff'] = 0\n",
    "\n",
    "# Go over the hierarchy from bottom to top\n",
    "for h in hierarchy[::-1]:\n",
    "    # Get the id of the current level employees\n",
    "    current_level_id = df[df['level'] == h]['employee_id']\n",
    "\n",
    "    # Get the number of staff each person manages\n",
    "    df_staff_count = df[df['boss_id'].isin(current_level_id)]\n",
    "    # len(x) is the number of their direct reports, and sum(x) is the number of subordinates of their direct reports\n",
    "    df_staff_count = df_staff_count.groupby('boss_id')['num_staff'].apply(lambda x:len(x) + sum(x))\n",
    "    df['num_staff'] = np.where(df['employee_id'].isin(current_level_id),\n",
    "                               df['employee_id'].map(df_staff_count).fillna(0),\n",
    "                               df['num_staff'])\n",
    "\n",
    "# Convert the data type to int\n",
    "df['num_staff'] = df['num_staff'].astype(int)"
   ],
   "metadata": {
    "collapsed": false,
    "pycharm": {
     "name": "#%%\n"
    }
   }
  },
  {
   "cell_type": "code",
   "execution_count": 10,
   "outputs": [
    {
     "data": {
      "text/plain": "     employee_id boss_id         dept  signing_bonus    salary degree_level  \\\n2427       61554     NaN          CEO              1  700000.0          PhD   \n1310       11277   61554        sales              1  550000.0       Master   \n2778       51535   61554  engineering              1  650000.0          PhD   \n1009      110464   61554    marketing              1  550000.0       Master   \n9640       93708   61554           HR              1  500000.0          PhD   \n\n     sex  yrs_experience level  num_staff  \n2427   M               7   CEO       9999  \n1310   M              22     E       3598  \n2778   M              33     E       2695  \n1009   M              21     E       2009  \n9640   F              28     E       1693  ",
      "text/html": "<div>\n<style scoped>\n    .dataframe tbody tr th:only-of-type {\n        vertical-align: middle;\n    }\n\n    .dataframe tbody tr th {\n        vertical-align: top;\n    }\n\n    .dataframe thead th {\n        text-align: right;\n    }\n</style>\n<table border=\"1\" class=\"dataframe\">\n  <thead>\n    <tr style=\"text-align: right;\">\n      <th></th>\n      <th>employee_id</th>\n      <th>boss_id</th>\n      <th>dept</th>\n      <th>signing_bonus</th>\n      <th>salary</th>\n      <th>degree_level</th>\n      <th>sex</th>\n      <th>yrs_experience</th>\n      <th>level</th>\n      <th>num_staff</th>\n    </tr>\n  </thead>\n  <tbody>\n    <tr>\n      <th>2427</th>\n      <td>61554</td>\n      <td>NaN</td>\n      <td>CEO</td>\n      <td>1</td>\n      <td>700000.0</td>\n      <td>PhD</td>\n      <td>M</td>\n      <td>7</td>\n      <td>CEO</td>\n      <td>9999</td>\n    </tr>\n    <tr>\n      <th>1310</th>\n      <td>11277</td>\n      <td>61554</td>\n      <td>sales</td>\n      <td>1</td>\n      <td>550000.0</td>\n      <td>Master</td>\n      <td>M</td>\n      <td>22</td>\n      <td>E</td>\n      <td>3598</td>\n    </tr>\n    <tr>\n      <th>2778</th>\n      <td>51535</td>\n      <td>61554</td>\n      <td>engineering</td>\n      <td>1</td>\n      <td>650000.0</td>\n      <td>PhD</td>\n      <td>M</td>\n      <td>33</td>\n      <td>E</td>\n      <td>2695</td>\n    </tr>\n    <tr>\n      <th>1009</th>\n      <td>110464</td>\n      <td>61554</td>\n      <td>marketing</td>\n      <td>1</td>\n      <td>550000.0</td>\n      <td>Master</td>\n      <td>M</td>\n      <td>21</td>\n      <td>E</td>\n      <td>2009</td>\n    </tr>\n    <tr>\n      <th>9640</th>\n      <td>93708</td>\n      <td>61554</td>\n      <td>HR</td>\n      <td>1</td>\n      <td>500000.0</td>\n      <td>PhD</td>\n      <td>F</td>\n      <td>28</td>\n      <td>E</td>\n      <td>1693</td>\n    </tr>\n  </tbody>\n</table>\n</div>"
     },
     "execution_count": 10,
     "metadata": {},
     "output_type": "execute_result"
    }
   ],
   "source": [
    "# Employees at the top of the hierarchy\n",
    "df.sort_values('num_staff', ascending=False).head()"
   ],
   "metadata": {
    "collapsed": false,
    "pycharm": {
     "name": "#%%\n"
    }
   }
  },
  {
   "cell_type": "code",
   "execution_count": 11,
   "outputs": [
    {
     "data": {
      "text/plain": "       signing_bonus         salary  yrs_experience    num_staff\nlevel                                                           \nCEO         1.000000  700000.000000        7.000000  9999.000000\nE           1.000000  562500.000000       26.000000  2498.750000\nVP          0.400000  258028.571429       20.657143   284.571429\nD           0.325000  212343.750000       14.043750    61.250000\nMM          0.331250  192473.750000        7.790000    11.250000\nIC          0.297556  187909.222222        3.271000     0.000000",
      "text/html": "<div>\n<style scoped>\n    .dataframe tbody tr th:only-of-type {\n        vertical-align: middle;\n    }\n\n    .dataframe tbody tr th {\n        vertical-align: top;\n    }\n\n    .dataframe thead th {\n        text-align: right;\n    }\n</style>\n<table border=\"1\" class=\"dataframe\">\n  <thead>\n    <tr style=\"text-align: right;\">\n      <th></th>\n      <th>signing_bonus</th>\n      <th>salary</th>\n      <th>yrs_experience</th>\n      <th>num_staff</th>\n    </tr>\n    <tr>\n      <th>level</th>\n      <th></th>\n      <th></th>\n      <th></th>\n      <th></th>\n    </tr>\n  </thead>\n  <tbody>\n    <tr>\n      <th>CEO</th>\n      <td>1.000000</td>\n      <td>700000.000000</td>\n      <td>7.000000</td>\n      <td>9999.000000</td>\n    </tr>\n    <tr>\n      <th>E</th>\n      <td>1.000000</td>\n      <td>562500.000000</td>\n      <td>26.000000</td>\n      <td>2498.750000</td>\n    </tr>\n    <tr>\n      <th>VP</th>\n      <td>0.400000</td>\n      <td>258028.571429</td>\n      <td>20.657143</td>\n      <td>284.571429</td>\n    </tr>\n    <tr>\n      <th>D</th>\n      <td>0.325000</td>\n      <td>212343.750000</td>\n      <td>14.043750</td>\n      <td>61.250000</td>\n    </tr>\n    <tr>\n      <th>MM</th>\n      <td>0.331250</td>\n      <td>192473.750000</td>\n      <td>7.790000</td>\n      <td>11.250000</td>\n    </tr>\n    <tr>\n      <th>IC</th>\n      <td>0.297556</td>\n      <td>187909.222222</td>\n      <td>3.271000</td>\n      <td>0.000000</td>\n    </tr>\n  </tbody>\n</table>\n</div>"
     },
     "execution_count": 11,
     "metadata": {},
     "output_type": "execute_result"
    }
   ],
   "source": [
    "# Hierarchy Structure\n",
    "df.groupby('level').mean().sort_values('num_staff', ascending=False)"
   ],
   "metadata": {
    "collapsed": false,
    "pycharm": {
     "name": "#%%\n"
    }
   }
  },
  {
   "cell_type": "markdown",
   "source": [
    "Just out of curiosity, let's compare how much money goes to the top and the bottom of the hierarchy.\n",
    "\n",
    "Apparently the top 20% earners take 30% of the total salaries, which seems reasonable and not as staggering as many other\n",
    "companies out there in the world."
   ],
   "metadata": {
    "collapsed": false,
    "pycharm": {
     "name": "#%% md\n"
    }
   }
  },
  {
   "cell_type": "code",
   "execution_count": 12,
   "outputs": [
    {
     "data": {
      "text/plain": "Text(0.5, 1.0, 'Lorenz Curve')"
     },
     "execution_count": 12,
     "metadata": {},
     "output_type": "execute_result"
    },
    {
     "data": {
      "text/plain": "<Figure size 432x288 with 1 Axes>",
      "image/png": "[encoded data removed]"
     },
     "metadata": {
      "needs_background": "light"
     },
     "output_type": "display_data"
    }
   ],
   "source": [
    "# Plot the lorenz curve\n",
    "data_lorenz = df[['salary']].sort_values('salary', ascending=False)\n",
    "data_lorenz['cumulative income'] = data_lorenz['salary'].cumsum()/data_lorenz['salary'].sum()\n",
    "data_lorenz['population percentile by income'] = (data_lorenz['salary']>0).cumsum()/data_lorenz['salary'].count()\n",
    "\n",
    "sns.lineplot(data=data_lorenz,\n",
    "             x='population percentile by income',\n",
    "             y='cumulative income').set_title('Lorenz Curve')"
   ],
   "metadata": {
    "collapsed": false,
    "pycharm": {
     "name": "#%%\n"
    }
   }
  },
  {
   "cell_type": "markdown",
   "source": [
    "## Q3. Build a model to predict the salary of each employee\n",
    "Most of the variables in this dataset are likely correlated.\n",
    "For instance, level in the company is likely correlated with number of reports or years of experience.\n",
    "\n",
    "Instead of hand-engineering independent features, we can use a Random Forest Regressor, which\n",
    "is quite robust to feature correlation and works quite well out of the box in most cases.\n",
    "\n",
    "### 3.1 Prepare training data"
   ],
   "metadata": {
    "collapsed": false
   }
  },
  {
   "cell_type": "code",
   "execution_count": 13,
   "outputs": [],
   "source": [
    "# Replace ordered categorical variables with numbers\n",
    "degree2code = {'High_School':1, 'Bachelor':2, 'Master':3, 'PhD':4}\n",
    "df['degree_level'] = df['degree_level'].map(degree2code)\n",
    "\n",
    "level2code = {'IC':1, 'MM':2, 'D':3, 'VP':4, 'E':5, 'CEO':6}\n",
    "df['level'] = df['level'].map(level2code)\n",
    "\n",
    "# Make dummy variables (department)\n",
    "df_dummies = pd.get_dummies(df.drop(['employee_id', 'boss_id'], axis=1), drop_first=True)\n",
    "\n",
    "# Make X and y\n",
    "X = df_dummies.drop(['salary'], axis=1)\n",
    "y = df_dummies['salary']\n",
    "\n",
    "# Split training and test data\n",
    "x_train, x_test, y_train, y_test = train_test_split(X, y, test_size=0.2, random_state=1)"
   ],
   "metadata": {
    "collapsed": false,
    "pycharm": {
     "name": "#%%\n"
    }
   }
  },
  {
   "cell_type": "markdown",
   "source": [
    "### 3.2 Modeling"
   ],
   "metadata": {
    "collapsed": false,
    "pycharm": {
     "name": "#%% md\n"
    }
   }
  },
  {
   "cell_type": "code",
   "execution_count": 14,
   "outputs": [
    {
     "data": {
      "text/plain": "RandomForestRegressor(n_jobs=-1, oob_score=True)"
     },
     "execution_count": 14,
     "metadata": {},
     "output_type": "execute_result"
    }
   ],
   "source": [
    "model = RandomForestRegressor(n_estimators=100,\n",
    "                              n_jobs=-1,\n",
    "                              oob_score=True)\n",
    "model.fit(x_train, y_train)"
   ],
   "metadata": {
    "collapsed": false,
    "pycharm": {
     "name": "#%%\n"
    }
   }
  },
  {
   "cell_type": "markdown",
   "source": [
    "### 3.3 Validation\n",
    "- Essentially, although our model is not overfitting, the prediction is on average 50k off the truth,\n",
    "and around 45% of the times within the 20% range of the actual salary."
   ],
   "metadata": {
    "collapsed": false,
    "pycharm": {
     "name": "#%% md\n"
    }
   }
  },
  {
   "cell_type": "code",
   "execution_count": 15,
   "outputs": [
    {
     "name": "stdout",
     "output_type": "stream",
     "text": [
      "Training MAE(OOB): 58159.0\n",
      "Test MAE: 58502.0\n",
      "Dummy Model Accuracy within 20% of Actual Salaries: 0.276125\n",
      "Training Accuracy within 20% of Actual Salaries: 0.4785\n",
      "Validation Accuracy within 20% of Actual Salaries: 0.4145\n"
     ]
    }
   ],
   "source": [
    "# Mean absolute error\n",
    "print('Training MAE(OOB):', (mean_absolute_error(model.oob_prediction_, y_train)).round())\n",
    "print('Test MAE:', (mean_absolute_error(model.predict(x_test), y_test)).round())\n",
    "\n",
    "# Let's define as accuracy predictions within 20% of the actual salaries,\n",
    "# since high earners tend to diverge more from the peer average in absolute terms\n",
    "# Btw, to facilitate comparision, I assume a dummy model always returns the mean salary\n",
    "print('Dummy Model Accuracy within 20% of Actual Salaries:', ((y_train.mean()/y_train-1).abs()<.2).mean())\n",
    "print('Training Accuracy within 20% of Actual Salaries:', ((model.predict(x_train)/y_train-1).abs()<.2).mean())\n",
    "print('Validation Accuracy within 20% of Actual Salaries:', ((model.predict(x_test)/y_test-1).abs()<.2).mean())"
   ],
   "metadata": {
    "collapsed": false,
    "pycharm": {
     "name": "#%%\n"
    }
   }
  },
  {
   "cell_type": "markdown",
   "source": [
    "## 5. Describe the main factors impacting employee salaries. Do you think the company has been treating all its employees fairly? What are the next steps you would suggest to the Head of HR?\n",
    "- Years of experience, department, levels and number of staff managed appear to be the most importance factors\n",
    "- Sex does not appear to matter when it comes to salaries by itself. However, males make up the majority of the high paying departments,\n",
    "which drives male's average salary much higher. Likewise, they are also more likely to be promoted to middle level or high level managers,\n",
    "who also have a better pay.\n",
    "- Staff aren't rewarded by their experience until they have at least 15 years of experience, which may result in the poor retention rate among mid-level people.\n",
    "- Surprisingly, degree almost does not matter at all.\n",
    "- Action: have a more balanced gender proportion across each department; and have a more linear growth in salary as seniority goes up.\n"
   ],
   "metadata": {
    "collapsed": false,
    "pycharm": {
     "name": "#%% md\n"
    }
   }
  },
  {
   "cell_type": "code",
   "execution_count": 16,
   "outputs": [
    {
     "data": {
      "text/plain": "Text(0.5, 1.0, 'Feature Importnace Plot')"
     },
     "execution_count": 16,
     "metadata": {},
     "output_type": "execute_result"
    },
    {
     "data": {
      "text/plain": "<Figure size 432x288 with 1 Axes>",
      "image/png": "[encoded data removed]"
     },
     "metadata": {
      "needs_background": "light"
     },
     "output_type": "display_data"
    }
   ],
   "source": [
    "# Feature Importance Plot\n",
    "feat_importance = pd.Series(model.feature_importances_, index=X.columns).nlargest(20)\n",
    "ax = feat_importance.sort_values().plot(kind='barh')\n",
    "ax.set_title('Feature Importnace Plot')"
   ],
   "metadata": {
    "collapsed": false,
    "pycharm": {
     "name": "#%%\n"
    }
   }
  },
  {
   "cell_type": "code",
   "execution_count": 17,
   "outputs": [
    {
     "data": {
      "text/plain": "<Figure size 432x288 with 1 Axes>",
      "image/png": "[encoded data removed]"
     },
     "metadata": {
      "needs_background": "light"
     },
     "output_type": "display_data"
    }
   ],
   "source": [
    "#PDP Plot\n",
    "pdp_iso = pdp.pdp_isolate(model=model,\n",
    "                          dataset=x_train,\n",
    "                          model_features=x_train.columns,\n",
    "                          feature=['dept_HR', 'dept_engineering', 'dept_marketing', 'dept_sales'],\n",
    "                          num_grid_points=50)\n",
    "pdp_dataset = pd.Series(pdp_iso.pdp, index=pdp_iso.display_columns)\n",
    "pdp_dataset.sort_values(ascending=False).plot(kind='bar', title='Partial Plot for Department')\n",
    "plt.show()"
   ],
   "metadata": {
    "collapsed": false,
    "pycharm": {
     "name": "#%%\n"
    }
   }
  },
  {
   "cell_type": "code",
   "execution_count": 26,
   "outputs": [
    {
     "data": {
      "text/plain": "<Figure size 432x288 with 1 Axes>",
      "image/png": "[encoded data removed]"
     },
     "metadata": {
      "needs_background": "light"
     },
     "output_type": "display_data"
    }
   ],
   "source": [
    "pdp_iso = pdp.pdp_isolate(model=model,\n",
    "                          dataset=x_train,\n",
    "                          model_features=x_train.columns,\n",
    "                          feature='yrs_experience',\n",
    "                          num_grid_points=50)\n",
    "pdp_dataset = pd.Series(pdp_iso.pdp, index=pdp_iso.feature_grids)\n",
    "pdp_dataset.plot(title='Partial Plot for Years of Experience')\n",
    "plt.show()"
   ],
   "metadata": {
    "collapsed": false,
    "pycharm": {
     "name": "#%%\n"
    }
   }
  },
  {
   "cell_type": "code",
   "execution_count": 19,
   "outputs": [
    {
     "data": {
      "text/plain": "<Figure size 432x288 with 1 Axes>",
      "image/png": "[encoded data removed]"
     },
     "metadata": {
      "needs_background": "light"
     },
     "output_type": "display_data"
    }
   ],
   "source": [
    "pdp_iso = pdp.pdp_isolate(model=model,\n",
    "                          dataset=x_train,\n",
    "                          model_features=x_train.columns,\n",
    "                          feature='degree_level',\n",
    "                          num_grid_points=50)\n",
    "\n",
    "code2degree = {value:key for key, value in degree2code.items()}\n",
    "index = [code2degree[int(code)] for code in pdp_iso.feature_grids]\n",
    "\n",
    "pdp_dataset = pd.Series(pdp_iso.pdp, index=index)\n",
    "pdp_dataset.sort_values(ascending=False).plot(kind='bar', title='Partial Plot for Degree')\n",
    "plt.show()"
   ],
   "metadata": {
    "collapsed": false,
    "pycharm": {
     "name": "#%%\n"
    }
   }
  },
  {
   "cell_type": "code",
   "execution_count": 20,
   "outputs": [
    {
     "data": {
      "text/plain": "<Figure size 432x288 with 1 Axes>",
      "image/png": "[encoded data removed]"
     },
     "metadata": {
      "needs_background": "light"
     },
     "output_type": "display_data"
    }
   ],
   "source": [
    "pdp_iso = pdp.pdp_isolate(model=model,\n",
    "                          dataset=x_train,\n",
    "                          model_features=x_train.columns,\n",
    "                          feature='sex_M',\n",
    "                          num_grid_points=50)\n",
    "pdp_dataset = pd.Series(pdp_iso.pdp, index=['Female', 'Male'])\n",
    "pdp_dataset.sort_values(ascending=False).plot(kind='bar', title='Partial Plot for Gender')\n",
    "plt.show()"
   ],
   "metadata": {
    "collapsed": false,
    "pycharm": {
     "name": "#%%\n"
    }
   }
  },
  {
   "cell_type": "code",
   "execution_count": 21,
   "outputs": [
    {
     "data": {
      "text/plain": "<Figure size 432x288 with 1 Axes>",
      "image/png": "[encoded data removed]"
     },
     "metadata": {
      "needs_background": "light"
     },
     "output_type": "display_data"
    }
   ],
   "source": [
    "pdp_iso = pdp.pdp_isolate(model=model,\n",
    "                          dataset=x_train,\n",
    "                          model_features=x_train.columns,\n",
    "                          feature='level',\n",
    "                          num_grid_points=50)\n",
    "\n",
    "code2level = {value:key for key, value in level2code.items()}\n",
    "index = [code2level[int(code)] for code in pdp_iso.feature_grids]\n",
    "\n",
    "pdp_dataset = pd.Series(pdp_iso.pdp, index=index)\n",
    "pdp_dataset.sort_values(ascending=False).plot(kind='bar', title='Partial Plot for Level')\n",
    "plt.show()"
   ],
   "metadata": {
    "collapsed": false,
    "pycharm": {
     "name": "#%%\n"
    }
   }
  },
  {
   "cell_type": "code",
   "execution_count": 22,
   "outputs": [
    {
     "data": {
      "text/plain": "sex\nF    171314.518394\nM    198954.340736\nName: salary, dtype: float64"
     },
     "execution_count": 22,
     "metadata": {},
     "output_type": "execute_result"
    }
   ],
   "source": [
    "# gender equality\n",
    "# avg salary males vs females\n",
    "df.groupby('sex')['salary'].mean()"
   ],
   "metadata": {
    "collapsed": false,
    "pycharm": {
     "name": "#%%\n"
    }
   }
  },
  {
   "cell_type": "code",
   "execution_count": 23,
   "outputs": [
    {
     "data": {
      "text/plain": "                          mean  count\ndept        sex                      \nCEO         M    700000.000000      1\nHR          F     84399.810964   1058\n            M     84827.044025    636\nengineering F    246785.394933    671\n            M    242444.444444   2025\nmarketing   F    192502.304147    651\n            M    195639.440765   1359\nsales       F    194618.120237   1181\n            M    194207.196030   2418",
      "text/html": "<div>\n<style scoped>\n    .dataframe tbody tr th:only-of-type {\n        vertical-align: middle;\n    }\n\n    .dataframe tbody tr th {\n        vertical-align: top;\n    }\n\n    .dataframe thead th {\n        text-align: right;\n    }\n</style>\n<table border=\"1\" class=\"dataframe\">\n  <thead>\n    <tr style=\"text-align: right;\">\n      <th></th>\n      <th></th>\n      <th>mean</th>\n      <th>count</th>\n    </tr>\n    <tr>\n      <th>dept</th>\n      <th>sex</th>\n      <th></th>\n      <th></th>\n    </tr>\n  </thead>\n  <tbody>\n    <tr>\n      <th>CEO</th>\n      <th>M</th>\n      <td>700000.000000</td>\n      <td>1</td>\n    </tr>\n    <tr>\n      <th rowspan=\"2\" valign=\"top\">HR</th>\n      <th>F</th>\n      <td>84399.810964</td>\n      <td>1058</td>\n    </tr>\n    <tr>\n      <th>M</th>\n      <td>84827.044025</td>\n      <td>636</td>\n    </tr>\n    <tr>\n      <th rowspan=\"2\" valign=\"top\">engineering</th>\n      <th>F</th>\n      <td>246785.394933</td>\n      <td>671</td>\n    </tr>\n    <tr>\n      <th>M</th>\n      <td>242444.444444</td>\n      <td>2025</td>\n    </tr>\n    <tr>\n      <th rowspan=\"2\" valign=\"top\">marketing</th>\n      <th>F</th>\n      <td>192502.304147</td>\n      <td>651</td>\n    </tr>\n    <tr>\n      <th>M</th>\n      <td>195639.440765</td>\n      <td>1359</td>\n    </tr>\n    <tr>\n      <th rowspan=\"2\" valign=\"top\">sales</th>\n      <th>F</th>\n      <td>194618.120237</td>\n      <td>1181</td>\n    </tr>\n    <tr>\n      <th>M</th>\n      <td>194207.196030</td>\n      <td>2418</td>\n    </tr>\n  </tbody>\n</table>\n</div>"
     },
     "execution_count": 23,
     "metadata": {},
     "output_type": "execute_result"
    }
   ],
   "source": [
    "# avg salary males vs females by dept\n",
    "df.groupby(['dept','sex'])['salary'].agg({'mean', 'count'})"
   ],
   "metadata": {
    "collapsed": false,
    "pycharm": {
     "name": "#%%\n"
    }
   }
  },
  {
   "cell_type": "code",
   "execution_count": 24,
   "outputs": [
    {
     "data": {
      "text/plain": "                    mean  count\nlevel sex                      \n1     F    169473.456790   3240\n      M    198279.340278   5760\n2     F    182935.606061    264\n      M    197171.641791    536\n3     F    209085.106383     47\n      M    213699.115044    113\n4     F    259444.444444      9\n      M    257538.461538     26\n5     F    500000.000000      1\n      M    583333.333333      3\n6     M    700000.000000      1",
      "text/html": "<div>\n<style scoped>\n    .dataframe tbody tr th:only-of-type {\n        vertical-align: middle;\n    }\n\n    .dataframe tbody tr th {\n        vertical-align: top;\n    }\n\n    .dataframe thead th {\n        text-align: right;\n    }\n</style>\n<table border=\"1\" class=\"dataframe\">\n  <thead>\n    <tr style=\"text-align: right;\">\n      <th></th>\n      <th></th>\n      <th>mean</th>\n      <th>count</th>\n    </tr>\n    <tr>\n      <th>level</th>\n      <th>sex</th>\n      <th></th>\n      <th></th>\n    </tr>\n  </thead>\n  <tbody>\n    <tr>\n      <th rowspan=\"2\" valign=\"top\">1</th>\n      <th>F</th>\n      <td>169473.456790</td>\n      <td>3240</td>\n    </tr>\n    <tr>\n      <th>M</th>\n      <td>198279.340278</td>\n      <td>5760</td>\n    </tr>\n    <tr>\n      <th rowspan=\"2\" valign=\"top\">2</th>\n      <th>F</th>\n      <td>182935.606061</td>\n      <td>264</td>\n    </tr>\n    <tr>\n      <th>M</th>\n      <td>197171.641791</td>\n      <td>536</td>\n    </tr>\n    <tr>\n      <th rowspan=\"2\" valign=\"top\">3</th>\n      <th>F</th>\n      <td>209085.106383</td>\n      <td>47</td>\n    </tr>\n    <tr>\n      <th>M</th>\n      <td>213699.115044</td>\n      <td>113</td>\n    </tr>\n    <tr>\n      <th rowspan=\"2\" valign=\"top\">4</th>\n      <th>F</th>\n      <td>259444.444444</td>\n      <td>9</td>\n    </tr>\n    <tr>\n      <th>M</th>\n      <td>257538.461538</td>\n      <td>26</td>\n    </tr>\n    <tr>\n      <th rowspan=\"2\" valign=\"top\">5</th>\n      <th>F</th>\n      <td>500000.000000</td>\n      <td>1</td>\n    </tr>\n    <tr>\n      <th>M</th>\n      <td>583333.333333</td>\n      <td>3</td>\n    </tr>\n    <tr>\n      <th>6</th>\n      <th>M</th>\n      <td>700000.000000</td>\n      <td>1</td>\n    </tr>\n  </tbody>\n</table>\n</div>"
     },
     "execution_count": 24,
     "metadata": {},
     "output_type": "execute_result"
    }
   ],
   "source": [
    "# avg salary males vs females by level\n",
    "df.groupby(['level','sex'])['salary'].agg({'mean', 'count'})\n"
   ],
   "metadata": {
    "collapsed": false,
    "pycharm": {
     "name": "#%%\n"
    }
   }
  }
 ],
 "metadata": {
  "kernelspec": {
   "display_name": "Python 3",
   "language": "python",
   "name": "python3"
  },
  "language_info": {
   "codemirror_mode": {
    "name": "ipython",
    "version": 2
   },
   "file_extension": ".py",
   "mimetype": "text/x-python",
   "name": "python",
   "nbconvert_exporter": "python",
   "pygments_lexer": "ipython2",
   "version": "2.7.6"
  }
 },
 "nbformat": 4,
 "nbformat_minor": 0
}